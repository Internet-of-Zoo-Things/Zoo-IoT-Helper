{
 "cells": [
  {
   "cell_type": "code",
   "execution_count": 10,
   "metadata": {},
   "outputs": [],
   "source": [
    "import random\n",
    "import time\n",
    "from datetime import datetime, date, timedelta"
   ]
  },
  {
   "cell_type": "code",
   "execution_count": 44,
   "metadata": {},
   "outputs": [],
   "source": [
    "def randomtimes(stime, etime, n):\n",
    "    td = etime - stime\n",
    "    return [random.random() * td + stime for _ in range(n)]"
   ]
  },
  {
   "cell_type": "code",
   "execution_count": 45,
   "metadata": {},
   "outputs": [
    {
     "name": "stdout",
     "output_type": "stream",
     "text": [
      "Today's date: 2019-12-08 00:00:00\n",
      "Tomorrow's date: 2019-12-09 00:00:00\n"
     ]
    }
   ],
   "source": [
    "today = date.today()\n",
    "today = datetime(today.year, today.month, today.day, 0, 0, 0)\n",
    "print(\"Today's date:\", today)\n",
    "tomorrow = today + timedelta(days=1)\n",
    "tomorrow = datetime(tomorrow.year, tomorrow.month, tomorrow.day, 0, 0, 0)\n",
    "print(\"Tomorrow's date:\", tomorrow)"
   ]
  },
  {
   "cell_type": "markdown",
   "metadata": {},
   "source": [
    "1. In general we limit the elephants to about 2 lbs of the goat pellets or biscuits per 24 hour period. For the deer feeders I would suggest a minimum of three feeds per 24 hour period and a maximum of 8 feeds per 24 hour period.\n",
    "\n",
    "2. I would also suggest a minimum of one hour between intervals and a max of 8 hours hours between intervals. \n",
    "\n",
    "3. The following are times of the day I would not feed them for sleeping,  our routine daytime shifting, or during our keeper chat. \n",
    "    * 12am- 4am  sleeping break\n",
    "    * 7:00am-10am  morning shifting and cleaning\n",
    "    * 1:30pm-2:30pm keeper chat and afternoon feeding\n",
    "    * 3:30pm- 6pm afternoon shifting and cleaning"
   ]
  },
  {
   "cell_type": "markdown",
   "metadata": {},
   "source": [
    "Times to feed.\n",
    "    * 5am- 7am\n",
    "    * 10am-1:30pm\n",
    "    * 2:30pm-3:30pm\n",
    "    * 6pm- 12 am"
   ]
  },
  {
   "cell_type": "code",
   "execution_count": 50,
   "metadata": {},
   "outputs": [
    {
     "data": {
      "text/plain": [
       "[datetime.datetime(2019, 12, 8, 14, 37, 28, 943100),\n",
       " datetime.datetime(2019, 12, 8, 11, 46, 54, 417376),\n",
       " datetime.datetime(2019, 12, 8, 20, 40, 30, 201049),\n",
       " datetime.datetime(2019, 12, 8, 9, 32, 36, 457830),\n",
       " datetime.datetime(2019, 12, 8, 1, 38, 49, 200029),\n",
       " datetime.datetime(2019, 12, 8, 4, 50, 9, 442023),\n",
       " datetime.datetime(2019, 12, 8, 21, 37, 1, 468349),\n",
       " datetime.datetime(2019, 12, 8, 15, 35, 42, 114571)]"
      ]
     },
     "execution_count": 50,
     "metadata": {},
     "output_type": "execute_result"
    }
   ],
   "source": [
    "feeds = random.randint(3,8)\n",
    "randomtimes(today, tomorrow, feeds)"
   ]
  },
  {
   "cell_type": "code",
   "execution_count": null,
   "metadata": {},
   "outputs": [],
   "source": []
  }
 ],
 "metadata": {
  "kernelspec": {
   "display_name": "Python 3",
   "language": "python",
   "name": "python3"
  },
  "language_info": {
   "codemirror_mode": {
    "name": "ipython",
    "version": 3
   },
   "file_extension": ".py",
   "mimetype": "text/x-python",
   "name": "python",
   "nbconvert_exporter": "python",
   "pygments_lexer": "ipython3",
   "version": "3.7.4"
  }
 },
 "nbformat": 4,
 "nbformat_minor": 2
}

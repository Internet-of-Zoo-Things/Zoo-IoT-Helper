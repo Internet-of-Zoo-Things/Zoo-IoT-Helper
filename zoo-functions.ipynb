{
 "cells": [
  {
   "cell_type": "markdown",
   "metadata": {},
   "source": [
    "## Create Daily Feed Schedule\n",
    "\n",
    "1. In general we limit the elephants to about 2 lbs of the goat pellets or biscuits per 24 hour period. For the deer feeders I would suggest a minimum of three feeds per 24 hour period and a maximum of 8 feeds per 24 hour period.\n",
    "\n",
    "2. I would also suggest a minimum of one hour between intervals and a max of 8 hours hours between intervals. \n",
    "\n",
    "3. The following are times of the day I would not feed them for sleeping,  our routine daytime shifting, or during our keeper chat. \n",
    "    * 12am- 4am  sleeping break\n",
    "    * 7:00am-10am  morning shifting and cleaning\n",
    "    * 1:30pm-2:30pm keeper chat and afternoon feeding\n",
    "    * 3:30pm- 6pm afternoon shifting and cleaning"
   ]
  },
  {
   "cell_type": "markdown",
   "metadata": {},
   "source": [
    "Times to feed.\n",
    "    * 5am- 7am\n",
    "    * 10am-1:30pm\n",
    "    * 2:30pm-3:30pm\n",
    "    * 6pm- 12 am"
   ]
  },
  {
   "cell_type": "code",
   "execution_count": 1,
   "metadata": {},
   "outputs": [],
   "source": [
    "import random\n",
    "import time\n",
    "from datetime import datetime, date, timedelta"
   ]
  },
  {
   "cell_type": "code",
   "execution_count": 2,
   "metadata": {},
   "outputs": [
    {
     "name": "stdout",
     "output_type": "stream",
     "text": [
      "Today's date: 2020-01-01 00:00:00\n",
      "Tomorrow's date: 2020-01-02 00:00:00\n"
     ]
    }
   ],
   "source": [
    "today = date.today()\n",
    "today = datetime(today.year, today.month, today.day, 0, 0, 0)\n",
    "print(\"Today's date:\", today)\n",
    "tomorrow = today + timedelta(days=1)\n",
    "tomorrow = datetime(tomorrow.year, tomorrow.month, tomorrow.day, 0, 0, 0)\n",
    "print(\"Tomorrow's date:\", tomorrow)"
   ]
  },
  {
   "cell_type": "code",
   "execution_count": 3,
   "metadata": {},
   "outputs": [],
   "source": [
    "def randomtimes(stime, etime, n):\n",
    "    td = etime - stime\n",
    "    return [random.random() * td + stime for _ in range(n)]\n",
    "\n",
    "def pidgeon_hole(n, n_bins): \n",
    "    quotient = n // n_bins\n",
    "    remainder = n % n_bins\n",
    "\n",
    "    bins = [quotient for i in range(n_bins)]    \n",
    "    for i in range(remainder):\n",
    "        bins[i] += 1\n",
    "    return bins"
   ]
  },
  {
   "cell_type": "code",
   "execution_count": 4,
   "metadata": {},
   "outputs": [
    {
     "name": "stdout",
     "output_type": "stream",
     "text": [
      "{0: [datetime.datetime(2020, 1, 1, 12, 19, 30, 433877), datetime.datetime(2020, 1, 1, 15, 58, 0, 284880), datetime.datetime(2020, 1, 1, 19, 17, 3, 75153)], 1: [], 2: [datetime.datetime(2020, 1, 1, 5, 30, 16, 914590)]}\n"
     ]
    }
   ],
   "source": [
    "feeders_dict = {\n",
    "    0:[],\n",
    "    1:[],\n",
    "    2:[]\n",
    "}\n",
    "\n",
    "feeds = random.randint(3,8)\n",
    "\n",
    "feeding_time_ranges = [(5,7),(10,13),(15,16),(18,24)]\n",
    "\n",
    "bins = pidgeon_hole(feeds, len(feeding_time_ranges))\n",
    "\n",
    "for feeding_time_range, b in zip(feeding_time_ranges, bins):\n",
    "    start, end = feeding_time_range\n",
    "    today = date.today()\n",
    "    start_time = datetime(today.year, today.month, today.day, start, 0, 0)\n",
    "    if end == 24:\n",
    "        end_time = today + timedelta(days=1)\n",
    "        end_time = datetime(end_time.year, end_time.month, end_time.day, 0, 0, 0)\n",
    "    else:\n",
    "        end_time = datetime(today.year, today.month, today.day, end, 0, 0)\n",
    "    for time in randomtimes(start_time, end_time, b):\n",
    "        feeders_dict[random.randint(0,2)].append(time)\n",
    "        \n",
    "print(feeders_dict)"
   ]
  },
  {
   "cell_type": "markdown",
   "metadata": {},
   "source": [
    "## Create Safe API Communication\n",
    "\n",
    "- Utilize md5\n",
    "- Figure out how to apply md5 to dictionary\n",
    "- Research different methods of generating secret keys"
   ]
  },
  {
   "cell_type": "code",
   "execution_count": null,
   "metadata": {},
   "outputs": [],
   "source": [
    "import hashlib\n",
    "import json\n",
    "\n",
    "def json_serial(obj):\n",
    "    \"\"\"JSON serializer for objects not serializable by default json code\"\"\"\n",
    "\n",
    "    if isinstance(obj, (datetime, date)):\n",
    "        return obj.isoformat()\n",
    "    raise TypeError (\"Type %s not serializable\" % type(obj))\n",
    "\n",
    "a = json.dumps(feeders_dict,default=json_serial, sort_keys = True).encode(\"utf-8\")\n",
    "hashlib.md5(a).hexdigest()"
   ]
  },
  {
   "cell_type": "code",
   "execution_count": null,
   "metadata": {},
   "outputs": [],
   "source": [
    "from binascii import hexlify\n",
    "import os\n",
    "\n",
    "a+hexlify(os.urandom(4))"
   ]
  },
  {
   "cell_type": "code",
   "execution_count": null,
   "metadata": {},
   "outputs": [],
   "source": [
    "# Server Side\n",
    "serverTime = datetime.now().isoformat().encode(\"utf-8\")\n",
    "\n",
    "secret = 'hi, nice to meet you'.encode(\"utf-8\")\n",
    "\n",
    "password = hexlify(os.urandom(4))\n",
    "\n",
    "digest = hashlib.md5(serverTime + secret).hexdigest().encode(\"utf-8\")"
   ]
  },
  {
   "cell_type": "code",
   "execution_count": null,
   "metadata": {},
   "outputs": [],
   "source": [
    "# Request\n",
    "# requestTime=serverTime&digest=digest&requestPassword=md5(digest+password)\n",
    "requestTime=serverTime\n",
    "digest=digest\n",
    "requestPassword = hashlib.md5(digest+password).hexdigest()"
   ]
  },
  {
   "cell_type": "code",
   "execution_count": null,
   "metadata": {},
   "outputs": [],
   "source": [
    "# Client Side\n",
    "\n",
    "# Calcuate based on inputs from request\n",
    "requestDigest = hashlib.md5(requestTime + secret).hexdigest().encode(\"utf-8\")\n",
    "\n",
    "# If they're the same, the payload has not been altered\n",
    "if digest == requestDigest:\n",
    "# We can be assured that the request was initated by our server.\n",
    "\n",
    "    passwordDigest = hashlib.md5(digest + password).hexdigest()\n",
    "    # If the two matches, the password is valid\n",
    "    if (requestPassword == passwordDigest):\n",
    "        # YAY! Do something good.\n",
    "        print(\"It worked\")\n",
    "    else:\n",
    "        # Password doesn't match\n",
    "        print(\"It doesn't work. requestPassword != passwordDigest\")\n",
    "        print(requestPassword, passwordDigest)\n",
    "\n",
    "else:\n",
    "    # Go away\n",
    "    print(\"It doesn't work. digest != requestDigest\")\n",
    "    print(digest, requestDigest)"
   ]
  }
 ],
 "metadata": {
  "kernelspec": {
   "display_name": "Python 3",
   "language": "python",
   "name": "python3"
  },
  "language_info": {
   "codemirror_mode": {
    "name": "ipython",
    "version": 3
   },
   "file_extension": ".py",
   "mimetype": "text/x-python",
   "name": "python",
   "nbconvert_exporter": "python",
   "pygments_lexer": "ipython3",
   "version": "3.7.4"
  }
 },
 "nbformat": 4,
 "nbformat_minor": 2
}
